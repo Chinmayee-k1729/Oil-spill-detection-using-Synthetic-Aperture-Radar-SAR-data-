{
  "nbformat": 4,
  "nbformat_minor": 0,
  "metadata": {
    "colab": {
      "provenance": []
    },
    "kernelspec": {
      "name": "python3",
      "display_name": "Python 3"
    },
    "language_info": {
      "name": "python"
    }
  },
  "cells": [
    {
      "cell_type": "markdown",
      "source": [
        "Code for given data interpretation - Understanding the given data, its format and structure.\n"
      ],
      "metadata": {
        "id": "RPBhjFPX4rC4"
      }
    },
    {
      "cell_type": "code",
      "source": [
        "!pip install rasterio"
      ],
      "metadata": {
        "colab": {
          "base_uri": "https://localhost:8080/"
        },
        "id": "kOmUOLOd_LKS",
        "outputId": "75849239-f950-45e1-d68c-67a2a66d3f52"
      },
      "execution_count": 1,
      "outputs": [
        {
          "output_type": "stream",
          "name": "stdout",
          "text": [
            "Collecting rasterio\n",
            "  Downloading rasterio-1.4.3-cp311-cp311-manylinux_2_17_x86_64.manylinux2014_x86_64.whl.metadata (9.1 kB)\n",
            "Collecting affine (from rasterio)\n",
            "  Downloading affine-2.4.0-py3-none-any.whl.metadata (4.0 kB)\n",
            "Requirement already satisfied: attrs in /usr/local/lib/python3.11/dist-packages (from rasterio) (25.1.0)\n",
            "Requirement already satisfied: certifi in /usr/local/lib/python3.11/dist-packages (from rasterio) (2025.1.31)\n",
            "Requirement already satisfied: click>=4.0 in /usr/local/lib/python3.11/dist-packages (from rasterio) (8.1.8)\n",
            "Collecting cligj>=0.5 (from rasterio)\n",
            "  Downloading cligj-0.7.2-py3-none-any.whl.metadata (5.0 kB)\n",
            "Requirement already satisfied: numpy>=1.24 in /usr/local/lib/python3.11/dist-packages (from rasterio) (1.26.4)\n",
            "Collecting click-plugins (from rasterio)\n",
            "  Downloading click_plugins-1.1.1-py2.py3-none-any.whl.metadata (6.4 kB)\n",
            "Requirement already satisfied: pyparsing in /usr/local/lib/python3.11/dist-packages (from rasterio) (3.2.1)\n",
            "Downloading rasterio-1.4.3-cp311-cp311-manylinux_2_17_x86_64.manylinux2014_x86_64.whl (22.2 MB)\n",
            "\u001b[2K   \u001b[90m━━━━━━━━━━━━━━━━━━━━━━━━━━━━━━━━━━━━━━━━\u001b[0m \u001b[32m22.2/22.2 MB\u001b[0m \u001b[31m43.3 MB/s\u001b[0m eta \u001b[36m0:00:00\u001b[0m\n",
            "\u001b[?25hDownloading cligj-0.7.2-py3-none-any.whl (7.1 kB)\n",
            "Downloading affine-2.4.0-py3-none-any.whl (15 kB)\n",
            "Downloading click_plugins-1.1.1-py2.py3-none-any.whl (7.5 kB)\n",
            "Installing collected packages: cligj, click-plugins, affine, rasterio\n",
            "Successfully installed affine-2.4.0 click-plugins-1.1.1 cligj-0.7.2 rasterio-1.4.3\n"
          ]
        }
      ]
    },
    {
      "cell_type": "code",
      "source": [
        "#Import libraries\n",
        "import rasterio                    #For handelling raster (here .tif files)\n",
        "import numpy as np                 #For numerical operations on arrays\n",
        "import matplotlib.pyplot as plt    #For plotting and visualizing image data"
      ],
      "metadata": {
        "id": "WYRBTgHX5NLE"
      },
      "execution_count": 4,
      "outputs": []
    },
    {
      "cell_type": "code",
      "source": [
        "files = [\"/content/drive/MyDrive/iitisoc_ps1 (1)/sar_dataset/Train_Val_Oil_Spill_images/Oil/00000.tif\",\n",
        "       \"/content/drive/MyDrive/iitisoc_ps1 (1)/sar_dataset/Train_Val_Oil_Spill_images/Oil/00001.tif\",\n",
        "       \"/content/drive/MyDrive/iitisoc_ps1 (1)/sar_dataset/Train_Val_Oil_Spill_images/Oil/00002.tif\"]  #Path to first 3 .tif files for their data interpretation\n",
        "for file in files:\n",
        "  with rasterio.open(file) as src:\n",
        "    print(\"Metadata:\", src.meta)              # Print metadata such as dimensions, driver, dtype, etc.\n",
        "    print(\"Number of bands:\", src.count)      # Print number of bands\n",
        "    data = src.read()                         # Read all bands into a 3D NumPy array (shape- bands × rows × columns)\n",
        "    print(\"Data shape:\", data.shape)\n",
        "    print(\"Data type:\", data.dtype)\n",
        "    img = src.read(1)                         # Read just the first band\n",
        "    print(\"Original Array\", img)              # Print pixel values as a 2D array"
      ],
      "metadata": {
        "colab": {
          "base_uri": "https://localhost:8080/"
        },
        "id": "p9mWplzn-xlx",
        "outputId": "b93b8a24-e7c3-41cc-8202-486736977ca2"
      },
      "execution_count": 6,
      "outputs": [
        {
          "output_type": "stream",
          "name": "stderr",
          "text": [
            "WARNING:rasterio._env:CPLE_AppDefined in 00000.tif: TIFFReadDirectory:Sum of Photometric type-related color channels and ExtraSamples doesn't match SamplesPerPixel. Defining non-color channels as ExtraSamples.\n",
            "WARNING:rasterio._env:CPLE_AppDefined in TIFFReadDirectory:Sum of Photometric type-related color channels and ExtraSamples doesn't match SamplesPerPixel. Defining non-color channels as ExtraSamples.\n"
          ]
        },
        {
          "output_type": "stream",
          "name": "stdout",
          "text": [
            "Metadata: {'driver': 'GTiff', 'dtype': 'float32', 'nodata': None, 'width': 2048, 'height': 2048, 'count': 2, 'crs': CRS.from_wkt('GEOGCS[\"WGS 84\",DATUM[\"WGS_1984\",SPHEROID[\"WGS 84\",6378137,298.257223563,AUTHORITY[\"EPSG\",\"7030\"]],AUTHORITY[\"EPSG\",\"6326\"]],PRIMEM[\"Greenwich\",0,AUTHORITY[\"EPSG\",\"8901\"]],UNIT[\"degree\",0.0174532925199433,AUTHORITY[\"EPSG\",\"9122\"]],AXIS[\"Latitude\",NORTH],AXIS[\"Longitude\",EAST],AUTHORITY[\"EPSG\",\"4326\"]]'), 'transform': Affine(8.983152841195215e-05, 0.0, 3.9656639450910203,\n",
            "       0.0, -8.983152841195215e-05, 55.33396508271642)}\n",
            "Number of bands: 2\n",
            "Data shape: (2, 2048, 2048)\n",
            "Data type: float32\n",
            "Original Array [[-32.444515 -32.54523  -32.182518 ... -35.516655 -38.529987 -37.48489 ]\n",
            " [-30.644533 -31.674006 -33.209736 ... -34.780228 -37.760834 -37.98035 ]\n",
            " [-28.903502 -30.722063 -34.657368 ... -35.04511  -35.831825 -37.47058 ]\n",
            " ...\n",
            " [-32.219948 -32.634033 -32.42556  ... -38.747795 -38.819576 -38.713764]\n",
            " [-30.12145  -29.374    -28.869383 ... -39.80025  -40.62422  -41.237476]\n",
            " [-28.95481  -27.928062 -28.321608 ... -42.699924 -42.730297 -42.8869  ]]\n"
          ]
        },
        {
          "output_type": "stream",
          "name": "stderr",
          "text": [
            "WARNING:rasterio._env:CPLE_AppDefined in 00001.tif: TIFFReadDirectory:Sum of Photometric type-related color channels and ExtraSamples doesn't match SamplesPerPixel. Defining non-color channels as ExtraSamples.\n",
            "WARNING:rasterio._env:CPLE_AppDefined in TIFFReadDirectory:Sum of Photometric type-related color channels and ExtraSamples doesn't match SamplesPerPixel. Defining non-color channels as ExtraSamples.\n"
          ]
        },
        {
          "output_type": "stream",
          "name": "stdout",
          "text": [
            "Metadata: {'driver': 'GTiff', 'dtype': 'float32', 'nodata': None, 'width': 2048, 'height': 2048, 'count': 2, 'crs': CRS.from_wkt('GEOGCS[\"WGS 84\",DATUM[\"WGS_1984\",SPHEROID[\"WGS 84\",6378137,298.257223563,AUTHORITY[\"EPSG\",\"7030\"]],AUTHORITY[\"EPSG\",\"6326\"]],PRIMEM[\"Greenwich\",0,AUTHORITY[\"EPSG\",\"8901\"]],UNIT[\"degree\",0.0174532925199433,AUTHORITY[\"EPSG\",\"9122\"]],AXIS[\"Latitude\",NORTH],AXIS[\"Longitude\",EAST],AUTHORITY[\"EPSG\",\"4326\"]]'), 'transform': Affine(8.983152841195215e-05, 0.0, 5.079664728927639,\n",
            "       0.0, -8.983152841195215e-05, 55.56501177379196)}\n",
            "Number of bands: 2\n",
            "Data shape: (2, 2048, 2048)\n",
            "Data type: float32\n",
            "Original Array [[-29.659838 -29.486334 -30.127487 ... -37.233242 -37.49049  -38.202274]\n",
            " [-30.29175  -29.73069  -30.764286 ... -34.96422  -35.22926  -35.446842]\n",
            " [-33.16665  -31.529123 -32.135914 ... -34.894474 -36.092278 -37.395584]\n",
            " ...\n",
            " [-32.364075 -31.988588 -32.392815 ... -29.275852 -28.904882 -29.70323 ]\n",
            " [-33.132942 -33.432632 -34.149952 ... -30.889492 -30.898525 -31.44578 ]\n",
            " [-32.701027 -34.058037 -37.619816 ... -37.8184   -38.943066 -40.074436]]\n"
          ]
        },
        {
          "output_type": "stream",
          "name": "stderr",
          "text": [
            "WARNING:rasterio._env:CPLE_AppDefined in 00002.tif: TIFFReadDirectory:Sum of Photometric type-related color channels and ExtraSamples doesn't match SamplesPerPixel. Defining non-color channels as ExtraSamples.\n",
            "WARNING:rasterio._env:CPLE_AppDefined in TIFFReadDirectory:Sum of Photometric type-related color channels and ExtraSamples doesn't match SamplesPerPixel. Defining non-color channels as ExtraSamples.\n"
          ]
        },
        {
          "output_type": "stream",
          "name": "stdout",
          "text": [
            "Metadata: {'driver': 'GTiff', 'dtype': 'float32', 'nodata': None, 'width': 2048, 'height': 2048, 'count': 2, 'crs': CRS.from_wkt('GEOGCS[\"WGS 84\",DATUM[\"WGS_1984\",SPHEROID[\"WGS 84\",6378137,298.257223563,AUTHORITY[\"EPSG\",\"7030\"]],AUTHORITY[\"EPSG\",\"6326\"]],PRIMEM[\"Greenwich\",0,AUTHORITY[\"EPSG\",\"8901\"]],UNIT[\"degree\",0.0174532925199433,AUTHORITY[\"EPSG\",\"9122\"]],AXIS[\"Latitude\",NORTH],AXIS[\"Longitude\",EAST],AUTHORITY[\"EPSG\",\"4326\"]]'), 'transform': Affine(8.983152841195215e-05, 0.0, 5.90018590944241,\n",
            "       0.0, -8.983152841195215e-05, 55.5435420385015)}\n",
            "Number of bands: 2\n",
            "Data shape: (2, 2048, 2048)\n",
            "Data type: float32\n",
            "Original Array [[-39.228138 -39.08132  -38.630756 ... -31.025257 -30.837393 -30.848083]\n",
            " [-38.371883 -39.11332  -39.3082   ... -30.211792 -30.24992  -30.912737]\n",
            " [-36.99314  -37.733124 -38.64546  ... -31.19314  -31.5186   -32.02333 ]\n",
            " ...\n",
            " [-39.603485 -39.548893 -38.963516 ... -38.58452  -38.78878  -37.04382 ]\n",
            " [-40.23586  -41.212383 -40.833694 ... -36.784035 -36.695484 -36.180996]\n",
            " [-37.455788 -36.68358  -37.826683 ... -35.80134  -35.711872 -36.491837]]\n"
          ]
        }
      ]
    }
  ]
}